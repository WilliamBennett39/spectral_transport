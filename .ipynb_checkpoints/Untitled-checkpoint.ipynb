{
 "cells": [
  {
   "cell_type": "code",
   "execution_count": 1,
   "id": "7f420caa-8ef1-495c-a438-817e7c2898e0",
   "metadata": {},
   "outputs": [],
   "source": [
    "import diffeqpy"
   ]
  },
  {
   "cell_type": "code",
   "execution_count": 3,
   "id": "f71ab853-2a64-4a3b-84f7-e8250867ad92",
   "metadata": {},
   "outputs": [
    {
     "name": "stdout",
     "output_type": "stream",
     "text": [
      "Detected IPython. Loading juliacall extension. See https://juliapy.github.io/PythonCall.jl/stable/compat/#IPython\n"
     ]
    },
    {
     "name": "stderr",
     "output_type": "stream",
     "text": [
      "  Activating project at `/opt/anaconda3/share/julia/environments/diffeqpy`\n",
      "┌ Warning: CHOLMOD version incompatibility\n",
      "│ \n",
      "│ Julia was compiled with CHOLMOD version 4.0.4. It is\n",
      "│ currently linked with version 5.3.0.\n",
      "│ This might cause Julia to terminate when working with\n",
      "│ sparse matrix factorizations, e.g. solving systems of\n",
      "│ equations with \\.\n",
      "│ \n",
      "│ It is recommended that you use Julia with the same major\n",
      "│ version of CHOLMOD as the one used during the build, or\n",
      "│ download the generic binaries from www.julialang.org,\n",
      "│ which ship with the correct versions of all dependencies.\n",
      "└ @ SparseArrays.CHOLMOD /opt/anaconda3/share/julia/stdlib/v1.10/SparseArrays/src/solvers/cholmod.jl:206\n"
     ]
    }
   ],
   "source": [
    "from diffeqpy import ode "
   ]
  },
  {
   "cell_type": "code",
   "execution_count": 5,
   "id": "ed5373c8-a61a-49da-8756-fdba1519a1fe",
   "metadata": {},
   "outputs": [],
   "source": [
    "def f(u, x, t):\n",
    "    return -u"
   ]
  },
  {
   "cell_type": "code",
   "execution_count": 7,
   "id": "5542bb3f-be6c-46fa-a738-b0816838fc74",
   "metadata": {},
   "outputs": [],
   "source": [
    "u0 = 0.5\n",
    "tspan = (0., 1.)\n",
    "prob = ode.ODEProblem(f, u0, tspan)\n",
    "sol = ode.solve(prob)"
   ]
  },
  {
   "cell_type": "code",
   "execution_count": 13,
   "id": "5714974a-0792-473a-a0f7-d6e25d90e657",
   "metadata": {},
   "outputs": [
    {
     "data": {
      "text/plain": [
       "5-element Vector{Float64}:\n",
       " 0.0\n",
       " 0.10003996803834632\n",
       " 0.34215230810920527\n",
       " 0.6555323841365488\n",
       " 1.0"
      ]
     },
     "execution_count": 13,
     "metadata": {},
     "output_type": "execute_result"
    }
   ],
   "source": [
    "sol.t"
   ]
  },
  {
   "cell_type": "code",
   "execution_count": null,
   "id": "da84ae81-cf9d-4d3e-8523-1b901432d59e",
   "metadata": {},
   "outputs": [],
   "source": []
  }
 ],
 "metadata": {
  "kernelspec": {
   "display_name": "Python 3 (ipykernel)",
   "language": "python",
   "name": "python3"
  },
  "language_info": {
   "codemirror_mode": {
    "name": "ipython",
    "version": 3
   },
   "file_extension": ".py",
   "mimetype": "text/x-python",
   "name": "python",
   "nbconvert_exporter": "python",
   "pygments_lexer": "ipython3",
   "version": "3.12.4"
  }
 },
 "nbformat": 4,
 "nbformat_minor": 5
}
